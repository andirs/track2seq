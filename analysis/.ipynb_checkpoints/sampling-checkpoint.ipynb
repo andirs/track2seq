{
 "cells": [
  {
   "cell_type": "markdown",
   "metadata": {},
   "source": [
    "# Sampling\n",
    "In order to develop the most robust system possible, we would like to create subsets of data for our solution. This will give us the chance to develop, finetune and test our model. In short, we'll be creating three sets:\n",
    "\n",
    "1. a training set to train our model\n",
    "2. a validation set to choose between models\n",
    "3. a test set tells to give us a better estimate as to how well the solution performs in the real world\n",
    "\n",
    "## The right ratio\n",
    "While in former machine learning times leading practitioners and researchers suggested splits like 70% training 30 % testing or 60 % training, 20 % development/validation, 20 % testing, this might not hold true for every setup. Especially in cases with more data, different ratios might be more appropriate. \n",
    "\n",
    "The trend for development and test set ratios is to go decrease with larger data sets. The most important reason for this is the purpose of development and test sets. The goal of the development set is to test different algorithms and measure their performance. Therefore the dev-set just needs to be big enough to evaluate the different algorithm choices. To evaluate this quickly and iteratively, it doesn't need 20 % of the overall data. The same holds true for the test set. For its purpose, to get an estimate of how good the algorithm would perform on a real life set the test data doesn't need 200,000 data points when the base is 1,000,000. \n",
    "\n",
    "In this research which uses a data set with 1,000,000 observations containing 66,000,000 song mentions, we'll be taking a more fitting approach slicing the data into the following ratios:\n",
    "\n",
    "| Data        |  Data Points  | Ratio |\n",
    "|-------------|--------------:|------:|\n",
    "| total       |   1,000,000   |  100% |\n",
    "| training    |     980,000   |   98% |\n",
    "| development |      10,000   |    1% |\n",
    "| testing     |      10,000   |    1% |\n",
    "\n",
    "Those ratios also reflect the challenge data set which will be used by the RecSys organizers to evaluate their official challenge. "
   ]
  },
  {
   "cell_type": "markdown",
   "metadata": {},
   "source": [
    "## Stratification\n",
    "To slice the right samples we're looking for three data sets that share their main characteristics. To determine which features might be exceptionally important and to keep all options available, but not overcomplicate the sampling process we'll be focusing on the following dimensions:\n",
    "\n",
    "* **Item Size:** num_tracks\n",
    "* **Popularity:** track_popularity_median\n",
    "* **Time:** modified_at\n",
    "\n",
    "These are the features we'll be adjusting for. The reasoning behind it is\n",
    "\n",
    "1. We'd like to capture a similar amount of information and a similar set of lengths per playlist within each sample\n",
    "2. We'd love to keep the effect of popular items in mind when choosing our subsample\n",
    "3. Time and zeitgeist are huge factors when it comes to music. In this case we want to maximize the chances to have the most recent tracks mentioned in all of our used sets."
   ]
  },
  {
   "cell_type": "code",
   "execution_count": 1,
   "metadata": {},
   "outputs": [],
   "source": [
    "import datetime\n",
    "import json\n",
    "import numpy as np\n",
    "import os\n",
    "import pandas as pd\n",
    "import pickle\n",
    "import scipy\n",
    "import seaborn as sns\n",
    "import time\n",
    "\n",
    "from collections import Counter\n",
    "from IPython.display import clear_output\n",
    "from matplotlib import pyplot as plt\n",
    "from sklearn.utils import shuffle\n",
    "%matplotlib inline\n",
    "\n",
    "random_state = 2018\n",
    "np.random.seed(random_state)\n",
    "\n",
    "\n",
    "recompute = False\n",
    "\n",
    "RESULTS_FOLDER = 'results/sampling/'"
   ]
  },
  {
   "cell_type": "code",
   "execution_count": 2,
   "metadata": {},
   "outputs": [],
   "source": [
    "def load_pickle_obj(fname):\n",
    "    with open(fname, 'rb') as f:\n",
    "        return pickle.load(f)"
   ]
  },
  {
   "cell_type": "code",
   "execution_count": 3,
   "metadata": {},
   "outputs": [],
   "source": [
    "playlist_df = pd.read_csv('results/playlist_df.csv', index_col=0)"
   ]
  },
  {
   "cell_type": "code",
   "execution_count": 4,
   "metadata": {},
   "outputs": [
    {
     "data": {
      "text/html": [
       "<div>\n",
       "<style scoped>\n",
       "    .dataframe tbody tr th:only-of-type {\n",
       "        vertical-align: middle;\n",
       "    }\n",
       "\n",
       "    .dataframe tbody tr th {\n",
       "        vertical-align: top;\n",
       "    }\n",
       "\n",
       "    .dataframe thead th {\n",
       "        text-align: right;\n",
       "    }\n",
       "</style>\n",
       "<table border=\"1\" class=\"dataframe\">\n",
       "  <thead>\n",
       "    <tr style=\"text-align: right;\">\n",
       "      <th></th>\n",
       "      <th>name</th>\n",
       "      <th>collaborative</th>\n",
       "      <th>pid</th>\n",
       "      <th>modified_at</th>\n",
       "      <th>num_albums</th>\n",
       "      <th>num_followers</th>\n",
       "      <th>num_edits</th>\n",
       "      <th>duration_ms</th>\n",
       "      <th>num_artists</th>\n",
       "      <th>artist_popularity</th>\n",
       "      <th>artist_popularity_mean</th>\n",
       "      <th>artist_popularity_median</th>\n",
       "      <th>track_popularity</th>\n",
       "      <th>track_popularity_mean</th>\n",
       "      <th>track_popularity_median</th>\n",
       "      <th>description</th>\n",
       "      <th>num_tracks</th>\n",
       "    </tr>\n",
       "  </thead>\n",
       "  <tbody>\n",
       "    <tr>\n",
       "      <th>0</th>\n",
       "      <td>Jazz</td>\n",
       "      <td>False</td>\n",
       "      <td>521000</td>\n",
       "      <td>1453593600</td>\n",
       "      <td>38</td>\n",
       "      <td>1</td>\n",
       "      <td>7</td>\n",
       "      <td>9905926</td>\n",
       "      <td>27</td>\n",
       "      <td>833854</td>\n",
       "      <td>20846.350000</td>\n",
       "      <td>14285.0</td>\n",
       "      <td>136491</td>\n",
       "      <td>3412.275000</td>\n",
       "      <td>1620.5</td>\n",
       "      <td>NaN</td>\n",
       "      <td>40</td>\n",
       "    </tr>\n",
       "    <tr>\n",
       "      <th>1</th>\n",
       "      <td>Noosa Tastiest Playlist</td>\n",
       "      <td>False</td>\n",
       "      <td>521001</td>\n",
       "      <td>1474502400</td>\n",
       "      <td>30</td>\n",
       "      <td>1</td>\n",
       "      <td>2</td>\n",
       "      <td>7784873</td>\n",
       "      <td>30</td>\n",
       "      <td>520253</td>\n",
       "      <td>17341.766667</td>\n",
       "      <td>3611.5</td>\n",
       "      <td>28213</td>\n",
       "      <td>940.433333</td>\n",
       "      <td>262.5</td>\n",
       "      <td>NaN</td>\n",
       "      <td>30</td>\n",
       "    </tr>\n",
       "    <tr>\n",
       "      <th>2</th>\n",
       "      <td>Worship</td>\n",
       "      <td>False</td>\n",
       "      <td>521002</td>\n",
       "      <td>1473638400</td>\n",
       "      <td>6</td>\n",
       "      <td>1</td>\n",
       "      <td>2</td>\n",
       "      <td>2113613</td>\n",
       "      <td>6</td>\n",
       "      <td>199232</td>\n",
       "      <td>33205.333333</td>\n",
       "      <td>24804.5</td>\n",
       "      <td>4404</td>\n",
       "      <td>734.000000</td>\n",
       "      <td>751.5</td>\n",
       "      <td>NaN</td>\n",
       "      <td>6</td>\n",
       "    </tr>\n",
       "    <tr>\n",
       "      <th>3</th>\n",
       "      <td>CANCUN</td>\n",
       "      <td>False</td>\n",
       "      <td>521003</td>\n",
       "      <td>1404777600</td>\n",
       "      <td>12</td>\n",
       "      <td>1</td>\n",
       "      <td>4</td>\n",
       "      <td>3316480</td>\n",
       "      <td>12</td>\n",
       "      <td>1070261</td>\n",
       "      <td>82327.769231</td>\n",
       "      <td>88500.0</td>\n",
       "      <td>45489</td>\n",
       "      <td>3499.153846</td>\n",
       "      <td>1437.0</td>\n",
       "      <td>NaN</td>\n",
       "      <td>13</td>\n",
       "    </tr>\n",
       "    <tr>\n",
       "      <th>4</th>\n",
       "      <td>Dancing</td>\n",
       "      <td>False</td>\n",
       "      <td>521004</td>\n",
       "      <td>1382313600</td>\n",
       "      <td>18</td>\n",
       "      <td>1</td>\n",
       "      <td>14</td>\n",
       "      <td>4540444</td>\n",
       "      <td>17</td>\n",
       "      <td>677011</td>\n",
       "      <td>37611.722222</td>\n",
       "      <td>6159.5</td>\n",
       "      <td>29732</td>\n",
       "      <td>1651.777778</td>\n",
       "      <td>193.5</td>\n",
       "      <td>NaN</td>\n",
       "      <td>18</td>\n",
       "    </tr>\n",
       "  </tbody>\n",
       "</table>\n",
       "</div>"
      ],
      "text/plain": [
       "                      name  collaborative     pid  modified_at  num_albums  \\\n",
       "0                     Jazz          False  521000   1453593600          38   \n",
       "1  Noosa Tastiest Playlist          False  521001   1474502400          30   \n",
       "2                  Worship          False  521002   1473638400           6   \n",
       "3                   CANCUN          False  521003   1404777600          12   \n",
       "4                 Dancing           False  521004   1382313600          18   \n",
       "\n",
       "   num_followers  num_edits  duration_ms  num_artists  artist_popularity  \\\n",
       "0              1          7      9905926           27             833854   \n",
       "1              1          2      7784873           30             520253   \n",
       "2              1          2      2113613            6             199232   \n",
       "3              1          4      3316480           12            1070261   \n",
       "4              1         14      4540444           17             677011   \n",
       "\n",
       "   artist_popularity_mean  artist_popularity_median  track_popularity  \\\n",
       "0            20846.350000                   14285.0            136491   \n",
       "1            17341.766667                    3611.5             28213   \n",
       "2            33205.333333                   24804.5              4404   \n",
       "3            82327.769231                   88500.0             45489   \n",
       "4            37611.722222                    6159.5             29732   \n",
       "\n",
       "   track_popularity_mean  track_popularity_median description  num_tracks  \n",
       "0            3412.275000                   1620.5         NaN          40  \n",
       "1             940.433333                    262.5         NaN          30  \n",
       "2             734.000000                    751.5         NaN           6  \n",
       "3            3499.153846                   1437.0         NaN          13  \n",
       "4            1651.777778                    193.5         NaN          18  "
      ]
     },
     "execution_count": 4,
     "metadata": {},
     "output_type": "execute_result"
    }
   ],
   "source": [
    "playlist_df.head()"
   ]
  },
  {
   "cell_type": "markdown",
   "metadata": {},
   "source": [
    "## Preprocessing\n",
    "Before we can stratify we need to create population classes regarding those features. Since stratification works best on categorical variables and classes within features we need to transforn continuous representations into discrete representations. In those classes we want to capture the general trend of any given feature. \n",
    "\n",
    "### Binning Aproaches\n",
    "In general we're investigating two binning approaches for this task: Equal-width binning and quantile binning. Equal-width splits up the range of a column according to its minimum and maximum values in equal sized bin boundaries. Afterwards it uses those boundaries to assign each of the observations to a bin. When splitting on quantiles, we're trying to assign an equal amount of observations to each bin.\n",
    "\n",
    "### Bin Size\n",
    "Because we're splitting into three sets in total and are dealing with a few popular but infrequent observations the bin size shouldn't be too large. If chosen too large we will most likely end up with a scenario where there are not enough observations for a given class to be represented in all three datasets (minimum 3 occurances if split on 3 data sets).\n",
    "\n",
    "There are a few ways on how to determine bin sizes from [Freedman-Diaconis rule](https://en.wikipedia.org/wiki/Freedman%E2%80%93Diaconis_rule) which takes into account the Inner Quartile Range to [Doane's formula](https://en.wikipedia.org/wiki/Histogram#Number_of_bins_and_width) or simply taking the square root of the number of observations."
   ]
  },
  {
   "cell_type": "markdown",
   "metadata": {},
   "source": [
    "### Freedman–Diaconis rule\n",
    "$$ b = 2  \\frac{IQR(x)}{\\sqrt[3] n} $$"
   ]
  },
  {
   "cell_type": "code",
   "execution_count": 5,
   "metadata": {},
   "outputs": [],
   "source": [
    "def get_iqr(df, feature):\n",
    "    return df[feature].quantile(.75) - df[feature].quantile(.25)"
   ]
  },
  {
   "cell_type": "code",
   "execution_count": 6,
   "metadata": {},
   "outputs": [
    {
     "data": {
      "text/plain": [
       "4195.5"
      ]
     },
     "execution_count": 6,
     "metadata": {},
     "output_type": "execute_result"
    }
   ],
   "source": [
    "get_iqr(playlist_df, 'track_popularity_median')"
   ]
  },
  {
   "cell_type": "code",
   "execution_count": 7,
   "metadata": {},
   "outputs": [],
   "source": [
    "def freedman_diaconis_rule(df, feature):\n",
    "    iqr = get_iqr(df, feature)\n",
    "    n = len(df)\n",
    "    return int(np.ceil(2 * iqr / np.cbrt(n)))"
   ]
  },
  {
   "cell_type": "code",
   "execution_count": 8,
   "metadata": {},
   "outputs": [],
   "source": [
    "feature_list = ['num_tracks', 'modified_at', 'track_popularity_median']"
   ]
  },
  {
   "cell_type": "code",
   "execution_count": 9,
   "metadata": {},
   "outputs": [
    {
     "name": "stdout",
     "output_type": "stream",
     "text": [
      "num_tracks: 2 bins\n",
      "modified_at: 929,664 bins\n",
      "track_popularity_median: 84 bins\n"
     ]
    }
   ],
   "source": [
    "for feature in feature_list:\n",
    "    print ('{}: {:,} bins'.format(feature, freedman_diaconis_rule(playlist_df, feature)))"
   ]
  },
  {
   "cell_type": "markdown",
   "metadata": {},
   "source": [
    "#### Problem: Non-normal distribution\n",
    "One problem arises for our data distributions using the Freedman-Diaco rule. The formula relies strongly on the inner-quartile range to model any skewness of the distribution. While 84 bins for `track_popularity_median` might be a reasonable amount for plotting it might be too restrictive for random sampling and the aforementioned constraints to contain at least 3 observations in each class. When looking at `num_tracks` and `modified_at` the shortcomings of Freedman-Diaco rule when operating on non-normal distributions become obvious. The skewness of the data leads to too small or too large bin sizes."
   ]
  },
  {
   "cell_type": "markdown",
   "metadata": {},
   "source": [
    "### Doane's formula\n",
    "Doane's formula tries to take skewness into account. This might be a better fit for our distributions since we're not sampling from gaussian distributions but in fact are dealing with density functions that are skewed towards right or left.\n",
    "\n",
    "$$ k = 1 + \\log_2( n ) + \\log_2 \\left( 1 +  \\frac { |g_1| }{\\sigma_{g_1}} \\right) $$\n",
    "where $g_{1}$ is the skewness of the distribution, $n$ the amount of observations and $\\sigma_{g_1}$ calculated as:\n",
    "\n",
    "$$ \\sigma_{g_1} = \\sqrt { \\frac { 6(n-2) }{ (n+1)(n+3) } }  $$"
   ]
  },
  {
   "cell_type": "code",
   "execution_count": 10,
   "metadata": {},
   "outputs": [],
   "source": [
    "def doanes_formula(df, feature, verbose=False):\n",
    "    n = len(df)\n",
    "    g1 = scipy.stats.skew(df[feature])\n",
    "    sigma_g1 = np.sqrt((6 * (n - 2)) / (n + 1) * (n + 3))\n",
    "    if verbose:\n",
    "        print ('g1: {} (np.log2: {:.4f})\\nsigma_g1: {}'.format(g1, np.log2(np.abs(g1)), sigma_g1))\n",
    "    \n",
    "    return int(np.ceil(1 + np.log2(n) + np.log2(1 + (np.abs(g1) / sigma_g1))))"
   ]
  },
  {
   "cell_type": "code",
   "execution_count": 11,
   "metadata": {
    "scrolled": true
   },
   "outputs": [
    {
     "name": "stdout",
     "output_type": "stream",
     "text": [
      "num_tracks: 21 bins\n",
      "modified_at: 21 bins\n",
      "track_popularity_median: 21 bins\n"
     ]
    }
   ],
   "source": [
    "for feature in feature_list:\n",
    "    print ('{}: {:,} bins'.format(feature, doanes_formula(playlist_df, feature)))"
   ]
  },
  {
   "cell_type": "markdown",
   "metadata": {},
   "source": [
    "This is giving a more consistant and reasonable result. The amount of classes is influenced by the skewness of the data leading to a negative penalty if the last term of the function becomes small (due to taking its $log_{2}$). Since all features have the same amount of observations and a similar amount of skewness, the bin size is equally large. "
   ]
  },
  {
   "cell_type": "code",
   "execution_count": 12,
   "metadata": {},
   "outputs": [
    {
     "name": "stdout",
     "output_type": "stream",
     "text": [
      "Histogram for feature 'num_tracks'\n"
     ]
    },
    {
     "data": {
      "image/png": "[encoded data removed]",
      "text/plain": [
       "<matplotlib.figure.Figure at 0x7f3080dc5588>"
      ]
     },
     "metadata": {},
     "output_type": "display_data"
    }
   ],
   "source": [
    "print ('Histogram for feature \\'{}\\''.format(feature_list[0]))\n",
    "count = plt.hist(playlist_df[feature_list[0]], bins=21)"
   ]
  },
  {
   "cell_type": "markdown",
   "metadata": {},
   "source": [
    "#### Problem: Outliers\n",
    "There is only one problem that needs fixing. With this bin size, we can still end up in cases where there are outliers that have their separate class or there are classes that have no members. In the specific case of `num_tracks` the class distributions are looking like this:"
   ]
  },
  {
   "cell_type": "code",
   "execution_count": 13,
   "metadata": {},
   "outputs": [
    {
     "data": {
      "text/plain": [
       "array([  5.        ,  22.66666667,  40.33333333,  58.        ,\n",
       "        75.66666667,  93.33333333, 111.        , 128.66666667,\n",
       "       146.33333333, 164.        , 181.66666667, 199.33333333,\n",
       "       217.        , 234.66666667, 252.33333333, 270.        ,\n",
       "       287.66666667, 305.33333333, 323.        , 340.66666667,\n",
       "       358.33333333, 376.        ])"
      ]
     },
     "execution_count": 13,
     "metadata": {},
     "output_type": "execute_result"
    }
   ],
   "source": [
    "count[1]"
   ]
  },
  {
   "cell_type": "code",
   "execution_count": 14,
   "metadata": {},
   "outputs": [
    {
     "name": "stdout",
     "output_type": "stream",
     "text": [
      "     Class                       Members            Boundary\n",
      "============================================================\n",
      "         0                     206,222.0                 5.0\n",
      "         1                     213,715.0               22.67\n",
      "         2                     147,069.0               40.33\n",
      "         3                     110,968.0                58.0\n",
      "         4                      79,528.0               75.67\n",
      "         5                      58,313.0               93.33\n",
      "         6                      46,248.0               111.0\n",
      "         7                      35,529.0              128.67\n",
      "         8                      26,740.0              146.33\n",
      "         9                      22,852.0               164.0\n",
      "        10                      17,921.0              181.67\n",
      "        11                      14,489.0              199.33\n",
      "        12                      12,267.0               217.0\n",
      "        13                       8,138.0              234.67\n",
      "        14                           0.0              252.33\n",
      "        15                           0.0               270.0\n",
      "        16                           0.0              287.67\n",
      "        17                           0.0              305.33\n",
      "        18                           0.0               323.0\n",
      "        19                           0.0              340.67\n",
      "        20                           1.0              358.33\n"
     ]
    }
   ],
   "source": [
    "print ('{:>10}{:>30}{:>20}'.format('Class', 'Members', 'Boundary'))\n",
    "print ('='*60)\n",
    "for c, b in enumerate(zip(count[0], count[1])):\n",
    "    print ('{:>10}{:>30,}{:>20}'.format(c, b[0], round(b[1],2)))"
   ]
  },
  {
   "cell_type": "markdown",
   "metadata": {},
   "source": [
    "Classes 14 to 19 have no members and class 20 has only one member. This will make it impossible to stratify on these distributions. A simple fix is, to exclude any class that has less than the minimum amount of members needed (3 in our case) from binning and include its members in the last accepted class. We can simply arrange for this by adjusting the boundaries. "
   ]
  },
  {
   "cell_type": "code",
   "execution_count": 15,
   "metadata": {},
   "outputs": [],
   "source": [
    "def adjust_bins(df, feature, bins, sets=3):\n",
    "    histogram_tuple = np.histogram(playlist_df[feature], bins)\n",
    "    return_boundaries = histogram_tuple[1]\n",
    "    del_count = 0\n",
    "    del_list = []\n",
    "    for idx, c in enumerate(histogram_tuple[0]):\n",
    "        if c < sets:\n",
    "            del_list.append(idx)\n",
    "    return_boundaries = np.delete(return_boundaries, del_list)\n",
    "    if del_list:\n",
    "        print ('Reduced bin size to {}.'.format(bins - len(del_list)))\n",
    "    return return_boundaries"
   ]
  },
  {
   "cell_type": "code",
   "execution_count": 16,
   "metadata": {
    "scrolled": true
   },
   "outputs": [
    {
     "name": "stdout",
     "output_type": "stream",
     "text": [
      "num_tracks\n",
      "Reduced bin size to 14.\n"
     ]
    }
   ],
   "source": [
    "print (feature_list[0])\n",
    "num_track_bins = adjust_bins(playlist_df, feature_list[0], 21)"
   ]
  },
  {
   "cell_type": "code",
   "execution_count": 17,
   "metadata": {},
   "outputs": [
    {
     "data": {
      "text/plain": [
       "array([  5.        ,  22.66666667,  40.33333333,  58.        ,\n",
       "        75.66666667,  93.33333333, 111.        , 128.66666667,\n",
       "       146.33333333, 164.        , 181.66666667, 199.33333333,\n",
       "       217.        , 234.66666667, 376.        ])"
      ]
     },
     "execution_count": 17,
     "metadata": {},
     "output_type": "execute_result"
    }
   ],
   "source": [
    "num_track_bins"
   ]
  },
  {
   "cell_type": "code",
   "execution_count": 18,
   "metadata": {},
   "outputs": [],
   "source": [
    "def get_feature_class_bin(row, bin_boundaries):\n",
    "    \"\"\"\n",
    "    Helper method for stratification. \n",
    "    Returns class label based on bin boundaries.\n",
    "    \n",
    "    Parameters:\n",
    "    --------------\n",
    "    row:             int, data point or series entry\n",
    "    bin_boundaries:  list with bin boundaries [0]: min value [-1]: max value\n",
    "    \n",
    "    Returns:\n",
    "    --------------\n",
    "    class:           int, range(0,len(bin_boundaries)) - determining class\n",
    "    \"\"\"\n",
    "    if row < bin_boundaries[1]:\n",
    "        return 0\n",
    "    for q in range(len(bin_boundaries) - 1):\n",
    "        if row >= bin_boundaries[q] and row < bin_boundaries[q+1]:\n",
    "            return q\n",
    "    return len(bin_boundaries)-1"
   ]
  },
  {
   "cell_type": "markdown",
   "metadata": {},
   "source": [
    "#### Quick test of boundaries function"
   ]
  },
  {
   "cell_type": "code",
   "execution_count": 19,
   "metadata": {},
   "outputs": [],
   "source": [
    "def assertEquals(var1, var2):\n",
    "    if var1 == var2:\n",
    "        return True\n",
    "    else:\n",
    "        return False"
   ]
  },
  {
   "cell_type": "code",
   "execution_count": 20,
   "metadata": {},
   "outputs": [],
   "source": [
    "bin_boundaries = [1, 10, 100, 200]"
   ]
  },
  {
   "cell_type": "code",
   "execution_count": 21,
   "metadata": {},
   "outputs": [],
   "source": [
    "rows = [1, 9, 11, 10, 90, 101, 199, 200, 204]\n",
    "assertions = [0, 0, 1, 1, 1, 2, 2, 3, 3]"
   ]
  },
  {
   "cell_type": "code",
   "execution_count": 22,
   "metadata": {},
   "outputs": [],
   "source": [
    "for idx, row in enumerate(rows):\n",
    "    if not (assertEquals(get_feature_class_bin(row, bin_boundaries), assertions[idx])):\n",
    "        print ('Error with value {} (Expected {} got {})'.format(\n",
    "            row, assertions[idx], get_feature_class_bin(row, bin_boundaries)))"
   ]
  },
  {
   "cell_type": "code",
   "execution_count": 23,
   "metadata": {},
   "outputs": [],
   "source": [
    "playlist_df_test = playlist_df.copy()"
   ]
  },
  {
   "cell_type": "markdown",
   "metadata": {},
   "source": [
    "### Preprocessing `num_tracks`"
   ]
  },
  {
   "cell_type": "code",
   "execution_count": 24,
   "metadata": {},
   "outputs": [],
   "source": [
    "nt_bins = doanes_formula(playlist_df, 'num_tracks')"
   ]
  },
  {
   "cell_type": "code",
   "execution_count": 25,
   "metadata": {},
   "outputs": [
    {
     "data": {
      "image/png": "[encoded data removed]",
      "text/plain": [
       "<matplotlib.figure.Figure at 0x7f3080d634a8>"
      ]
     },
     "metadata": {},
     "output_type": "display_data"
    }
   ],
   "source": [
    "bins = plt.hist(playlist_df['num_tracks'], bins=nt_bins)"
   ]
  },
  {
   "cell_type": "code",
   "execution_count": 26,
   "metadata": {},
   "outputs": [
    {
     "name": "stdout",
     "output_type": "stream",
     "text": [
      "Reduced bin size to 14.\n"
     ]
    }
   ],
   "source": [
    "nt_bin_list = adjust_bins(playlist_df, 'num_tracks', nt_bins)"
   ]
  },
  {
   "cell_type": "code",
   "execution_count": 27,
   "metadata": {},
   "outputs": [],
   "source": [
    "playlist_df['num_tracks_class'] = playlist_df['num_tracks'].apply(get_feature_class_bin, args=(nt_bin_list, ))"
   ]
  },
  {
   "cell_type": "code",
   "execution_count": 28,
   "metadata": {},
   "outputs": [
    {
     "data": {
      "image/png": "[encoded data removed]",
      "text/plain": [
       "<matplotlib.figure.Figure at 0x7f307d2beda0>"
      ]
     },
     "metadata": {},
     "output_type": "display_data"
    }
   ],
   "source": [
    "_ = plt.hist(playlist_df['num_tracks_class'], bins=14)"
   ]
  },
  {
   "cell_type": "markdown",
   "metadata": {},
   "source": [
    "### Preprocessing `modified_at`"
   ]
  },
  {
   "cell_type": "code",
   "execution_count": 29,
   "metadata": {},
   "outputs": [
    {
     "data": {
      "image/png": "[encoded data removed]",
      "text/plain": [
       "<matplotlib.figure.Figure at 0x7f3080c47358>"
      ]
     },
     "metadata": {},
     "output_type": "display_data"
    }
   ],
   "source": [
    "_ = plt.hist(playlist_df['modified_at'], bins=10)"
   ]
  },
  {
   "cell_type": "code",
   "execution_count": 30,
   "metadata": {},
   "outputs": [],
   "source": [
    "ma_bins = doanes_formula(playlist_df, 'modified_at')"
   ]
  },
  {
   "cell_type": "code",
   "execution_count": 31,
   "metadata": {},
   "outputs": [
    {
     "data": {
      "image/png": "[encoded data removed]",
      "text/plain": [
       "<matplotlib.figure.Figure at 0x7f3080cb1d30>"
      ]
     },
     "metadata": {},
     "output_type": "display_data"
    }
   ],
   "source": [
    "bins = plt.hist(playlist_df['modified_at'], bins=5)"
   ]
  },
  {
   "cell_type": "code",
   "execution_count": 32,
   "metadata": {},
   "outputs": [],
   "source": [
    "ma_bin_list = adjust_bins(playlist_df, 'modified_at', ma_bins)"
   ]
  },
  {
   "cell_type": "code",
   "execution_count": 33,
   "metadata": {},
   "outputs": [],
   "source": [
    "playlist_df['modified_at_class'] = playlist_df['modified_at'].apply(get_feature_class_bin, args=(ma_bin_list, ))"
   ]
  },
  {
   "cell_type": "markdown",
   "metadata": {},
   "source": [
    "### Preprocessing `track_popularity_median`"
   ]
  },
  {
   "cell_type": "code",
   "execution_count": 34,
   "metadata": {},
   "outputs": [
    {
     "data": {
      "image/png": "[encoded data removed]",
      "text/plain": [
       "<matplotlib.figure.Figure at 0x7f3080b56198>"
      ]
     },
     "metadata": {},
     "output_type": "display_data"
    }
   ],
   "source": [
    "_ = plt.hist(playlist_df['track_popularity_median'], bins=14)"
   ]
  },
  {
   "cell_type": "code",
   "execution_count": 35,
   "metadata": {},
   "outputs": [],
   "source": [
    "pop_bins = doanes_formula(playlist_df, 'track_popularity_median')"
   ]
  },
  {
   "cell_type": "code",
   "execution_count": 36,
   "metadata": {
    "scrolled": true
   },
   "outputs": [
    {
     "data": {
      "image/png": "[encoded data removed]",
      "text/plain": [
       "<matplotlib.figure.Figure at 0x7f307ea6bf60>"
      ]
     },
     "metadata": {},
     "output_type": "display_data"
    }
   ],
   "source": [
    "bins = plt.hist(playlist_df['track_popularity_median'], bins=pop_bins)"
   ]
  },
  {
   "cell_type": "code",
   "execution_count": 37,
   "metadata": {},
   "outputs": [],
   "source": [
    "pop_bin_list = adjust_bins(playlist_df, 'track_popularity_median', pop_bins)"
   ]
  },
  {
   "cell_type": "code",
   "execution_count": 38,
   "metadata": {},
   "outputs": [],
   "source": [
    "playlist_df['track_popularity_median_class'] = playlist_df['track_popularity_median'].apply(\n",
    "    get_feature_class_bin, args=(pop_bin_list, ))"
   ]
  },
  {
   "cell_type": "markdown",
   "metadata": {},
   "source": [
    "## Quantiles\n",
    "Another option to slice the data set into samples with similar characteristics that works well for skewed distributions is using quantiles. This approach comes with its own drawbacks but it handles outliers intuitively and contains more randomness in each bin. \n",
    "\n",
    "The biggest problem with this approach yet is asking for more bins than reasonable. This might happen when dealing with long-tails where multiple quantile steps describe the same boundary."
   ]
  },
  {
   "cell_type": "code",
   "execution_count": 39,
   "metadata": {},
   "outputs": [],
   "source": [
    "def get_feature_class(row, quantile_list):\n",
    "    \"\"\"\n",
    "    Helper method for stratification. \n",
    "    Returns class label based on quantile boundaries.\n",
    "    \n",
    "    Parameters:\n",
    "    --------------\n",
    "    row:            int, data point or series entry\n",
    "    quantile_list:  list with quantile measures\n",
    "    \n",
    "    Returns:\n",
    "    --------------\n",
    "    class:          int, range(0,len(quantile_list)) - determining class\n",
    "    \"\"\"\n",
    "    if row <= quantile_list[0]:\n",
    "        return 0\n",
    "    for q in range(len(quantile_list) - 1):\n",
    "        if row > quantile_list[q] and row <= quantile_list[q+1]:\n",
    "            return q+1"
   ]
  },
  {
   "cell_type": "code",
   "execution_count": 40,
   "metadata": {},
   "outputs": [],
   "source": [
    "def qs(q):\n",
    "    \"\"\"\n",
    "    Helper method for quantile list. \n",
    "    Calculates quantile steps for q number of quantiles.\n",
    "    \n",
    "    Parameters:\n",
    "    --------------\n",
    "    q:    int, number of quantiles\n",
    "    \n",
    "    Returns:\n",
    "    --------------\n",
    "    quantile_list:    list of quantile steps\n",
    "    \"\"\"\n",
    "    step = 100 / q\n",
    "    quantile_list = []\n",
    "    \n",
    "    for i in range(1,q+1):\n",
    "        quantile_list.append(i * step / 100)\n",
    "    return quantile_list"
   ]
  },
  {
   "cell_type": "code",
   "execution_count": 41,
   "metadata": {},
   "outputs": [],
   "source": [
    "def get_quantile_list(df, feature, bins=10):\n",
    "    \"\"\"\n",
    "    Returns q quantile boundaries for a feature in a dataset. \n",
    "    \n",
    "    Parameters:\n",
    "    --------------\n",
    "    df:      pandas.DataFrame\n",
    "    feature: str, column name of feature\n",
    "    bins   : amount of bins\n",
    "    \n",
    "    Returns:\n",
    "    --------------\n",
    "    quantile_list: list of boundaries to get quantile distribution\n",
    "    \"\"\"\n",
    "    error_msg = None\n",
    "    # create quantile pointers\n",
    "    quantile_steps = qs(bins)\n",
    "    quantile_list = []\n",
    "    for step in quantile_steps:\n",
    "        quant = df[feature].quantile(step)\n",
    "        if quant not in quantile_list:\n",
    "            quantile_list.append(quant)\n",
    "        else:\n",
    "            error_msg = 'Warning: Reduced bin size to'\n",
    "    if error_msg:\n",
    "        error_msg += ' {} bins.'.format(len(quantile_list))\n",
    "        print (error_msg)\n",
    "    return quantile_list"
   ]
  },
  {
   "cell_type": "code",
   "execution_count": 42,
   "metadata": {},
   "outputs": [
    {
     "name": "stdout",
     "output_type": "stream",
     "text": [
      "Warning: Reduced bin size to 46 bins.\n"
     ]
    }
   ],
   "source": [
    "num_edits_ql = get_quantile_list(playlist_df, 'num_edits', bins=100)"
   ]
  },
  {
   "cell_type": "code",
   "execution_count": 43,
   "metadata": {},
   "outputs": [],
   "source": [
    "test_bins = doanes_formula(playlist_df, 'num_edits')"
   ]
  },
  {
   "cell_type": "markdown",
   "metadata": {},
   "source": [
    "### nt_quantile"
   ]
  },
  {
   "cell_type": "code",
   "execution_count": 44,
   "metadata": {},
   "outputs": [],
   "source": [
    "nt_quantile_list = get_quantile_list(playlist_df, 'num_tracks', bins=14)"
   ]
  },
  {
   "cell_type": "code",
   "execution_count": 45,
   "metadata": {},
   "outputs": [],
   "source": [
    "playlist_df['num_tracks_class_quantile'] = playlist_df['num_tracks'].apply(get_feature_class, args=(nt_quantile_list, ))"
   ]
  },
  {
   "cell_type": "code",
   "execution_count": 46,
   "metadata": {
    "scrolled": true
   },
   "outputs": [
    {
     "data": {
      "image/png": "[encoded data removed]",
      "text/plain": [
       "<matplotlib.figure.Figure at 0x7f3080a9c7b8>"
      ]
     },
     "metadata": {},
     "output_type": "display_data"
    }
   ],
   "source": [
    "_ = plt.hist(playlist_df['num_tracks_class_quantile'], bins=14)"
   ]
  },
  {
   "cell_type": "markdown",
   "metadata": {},
   "source": [
    "### ma_quantile"
   ]
  },
  {
   "cell_type": "code",
   "execution_count": 47,
   "metadata": {},
   "outputs": [],
   "source": [
    "ma_quantile_list = get_quantile_list(playlist_df, 'modified_at', bins=21)"
   ]
  },
  {
   "cell_type": "code",
   "execution_count": 48,
   "metadata": {},
   "outputs": [],
   "source": [
    "playlist_df['modified_at_class_quantile'] = playlist_df['modified_at'].apply(get_feature_class, args=(ma_quantile_list, ))"
   ]
  },
  {
   "cell_type": "markdown",
   "metadata": {},
   "source": [
    "### pop_quantile"
   ]
  },
  {
   "cell_type": "code",
   "execution_count": 49,
   "metadata": {},
   "outputs": [],
   "source": [
    "pop_quantile_list = get_quantile_list(playlist_df, 'track_popularity_median', bins=21)"
   ]
  },
  {
   "cell_type": "code",
   "execution_count": 50,
   "metadata": {},
   "outputs": [],
   "source": [
    "playlist_df['track_popularity_median_class_quantile'] = playlist_df['track_popularity_median'].apply(\n",
    "    get_feature_class, args=(pop_quantile_list, ))"
   ]
  },
  {
   "cell_type": "markdown",
   "metadata": {},
   "source": [
    "## Complexity\n",
    "Since our goal is, to stratify given a combination of three features the amount of classes can have a huge impact. While we're dealing with a strongly skewed dataset the chances that infrequent combinations pop up is very high. The lower the amount of classes we need per feature, the better are our chances to end up with no infrequent combinations. There are ways of dealing with those rare occacions (i.e. finding nearest non-rare neighbor of rare solution) or we could discard some of the outlier data points. Since we would like to include as much information as possible and don't want to make the sampling process more complex than needed we're opting to choose a smaller amount of classes per feature if needed."
   ]
  },
  {
   "cell_type": "markdown",
   "metadata": {},
   "source": [
    "## Stratification-Analysis\n",
    "To determine the best working bin size and method, we'll be using a similar evaluation method than sklearn's StratifiedShuffleSplit. We'll be looking at all possible class combinations of the selected features and determine how many combinations appear less than 3 times (because we need to split for 3 different sets)."
   ]
  },
  {
   "cell_type": "code",
   "execution_count": 51,
   "metadata": {},
   "outputs": [],
   "source": [
    "def stratify_test(df, sets=3):\n",
    "    y_strat = np.array([' '.join(row.astype('str')) for row in df.values])\n",
    "    print ('Combination example: {}'.format(y_strat[0]))\n",
    "    y_strat_count = Counter(y_strat).most_common()\n",
    "    unstrats = [x for x in y_strat_count if x[1] < sets]\n",
    "    unstrats_count = np.sum([x[1] for x in unstrats]) \n",
    "    print ('{:,} unique feature combination(s) with less than {} observations. (Total: {} datapoints)'.format(\n",
    "        len(unstrats), sets, unstrats_count))\n",
    "\n",
    "    unstrats_set = [x[0] for x in unstrats]\n",
    "    \n",
    "    unstrats_ids = []\n",
    "    for idx, strat_el in enumerate(y_strat):\n",
    "        if strat_el in unstrats_set:\n",
    "            unstrats_ids.append(idx)\n",
    "    return unstrats_ids"
   ]
  },
  {
   "cell_type": "code",
   "execution_count": 52,
   "metadata": {},
   "outputs": [
    {
     "name": "stdout",
     "output_type": "stream",
     "text": [
      "Combination example: 0 1 16\n",
      "227 unique feature combination(s) with less than 3 observations. (Total: 304 datapoints)\n"
     ]
    }
   ],
   "source": [
    "unstrat_ids = stratify_test(\n",
    "    playlist_df[['track_popularity_median_class', 'num_tracks_class', 'modified_at_class']], sets=3)"
   ]
  },
  {
   "cell_type": "code",
   "execution_count": 53,
   "metadata": {},
   "outputs": [
    {
     "name": "stdout",
     "output_type": "stream",
     "text": [
      "Combination example: 10 5 4\n",
      "13 unique feature combination(s) with less than 3 observations. (Total: 17 datapoints)\n"
     ]
    }
   ],
   "source": [
    "unstrat_ids_quantile = stratify_test(\n",
    "    playlist_df[['track_popularity_median_class_quantile', \n",
    "                 'num_tracks_class_quantile', \n",
    "                 'modified_at_class_quantile']], sets=3)"
   ]
  },
  {
   "cell_type": "code",
   "execution_count": 54,
   "metadata": {},
   "outputs": [
    {
     "data": {
      "text/html": [
       "<div>\n",
       "<style scoped>\n",
       "    .dataframe tbody tr th:only-of-type {\n",
       "        vertical-align: middle;\n",
       "    }\n",
       "\n",
       "    .dataframe tbody tr th {\n",
       "        vertical-align: top;\n",
       "    }\n",
       "\n",
       "    .dataframe thead th {\n",
       "        text-align: right;\n",
       "    }\n",
       "</style>\n",
       "<table border=\"1\" class=\"dataframe\">\n",
       "  <thead>\n",
       "    <tr style=\"text-align: right;\">\n",
       "      <th></th>\n",
       "      <th>track_popularity_median_class_quantile</th>\n",
       "      <th>num_tracks_class_quantile</th>\n",
       "      <th>modified_at_class_quantile</th>\n",
       "    </tr>\n",
       "  </thead>\n",
       "  <tbody>\n",
       "    <tr>\n",
       "      <th>18698</th>\n",
       "      <td>20</td>\n",
       "      <td>4</td>\n",
       "      <td>0</td>\n",
       "    </tr>\n",
       "    <tr>\n",
       "      <th>114001</th>\n",
       "      <td>20</td>\n",
       "      <td>13</td>\n",
       "      <td>6</td>\n",
       "    </tr>\n",
       "    <tr>\n",
       "      <th>181197</th>\n",
       "      <td>20</td>\n",
       "      <td>11</td>\n",
       "      <td>2</td>\n",
       "    </tr>\n",
       "    <tr>\n",
       "      <th>183131</th>\n",
       "      <td>20</td>\n",
       "      <td>4</td>\n",
       "      <td>0</td>\n",
       "    </tr>\n",
       "    <tr>\n",
       "      <th>183344</th>\n",
       "      <td>20</td>\n",
       "      <td>5</td>\n",
       "      <td>0</td>\n",
       "    </tr>\n",
       "  </tbody>\n",
       "</table>\n",
       "</div>"
      ],
      "text/plain": [
       "        track_popularity_median_class_quantile  num_tracks_class_quantile  \\\n",
       "18698                                       20                          4   \n",
       "114001                                      20                         13   \n",
       "181197                                      20                         11   \n",
       "183131                                      20                          4   \n",
       "183344                                      20                          5   \n",
       "\n",
       "        modified_at_class_quantile  \n",
       "18698                            0  \n",
       "114001                           6  \n",
       "181197                           2  \n",
       "183131                           0  \n",
       "183344                           0  "
      ]
     },
     "execution_count": 54,
     "metadata": {},
     "output_type": "execute_result"
    }
   ],
   "source": [
    "playlist_df[playlist_df.index.isin(unstrat_ids_quantile)][[\n",
    "    'track_popularity_median_class_quantile', 'num_tracks_class_quantile', 'modified_at_class_quantile']].head()"
   ]
  },
  {
   "cell_type": "markdown",
   "metadata": {},
   "source": [
    "### Adjustments: Bins"
   ]
  },
  {
   "cell_type": "code",
   "execution_count": 55,
   "metadata": {
    "scrolled": true
   },
   "outputs": [
    {
     "name": "stdout",
     "output_type": "stream",
     "text": [
      "Reduced bin size to 2.\n"
     ]
    }
   ],
   "source": [
    "nt_bin_list = adjust_bins(playlist_df, 'num_tracks', 3)"
   ]
  },
  {
   "cell_type": "code",
   "execution_count": 56,
   "metadata": {},
   "outputs": [],
   "source": [
    "playlist_df['num_tracks_class'] = playlist_df['num_tracks'].apply(get_feature_class_bin, args=(nt_bin_list, ))"
   ]
  },
  {
   "cell_type": "code",
   "execution_count": 57,
   "metadata": {},
   "outputs": [],
   "source": [
    "ma_bin_list = adjust_bins(playlist_df, 'modified_at', 3)"
   ]
  },
  {
   "cell_type": "code",
   "execution_count": 58,
   "metadata": {},
   "outputs": [],
   "source": [
    "playlist_df['modified_at_class'] = playlist_df['modified_at'].apply(get_feature_class_bin, args=(ma_bin_list, ))"
   ]
  },
  {
   "cell_type": "code",
   "execution_count": 59,
   "metadata": {},
   "outputs": [],
   "source": [
    "pop_bin_list = adjust_bins(playlist_df, 'track_popularity_median', 3)"
   ]
  },
  {
   "cell_type": "code",
   "execution_count": 60,
   "metadata": {},
   "outputs": [],
   "source": [
    "playlist_df['track_popularity_median_class'] = playlist_df['track_popularity_median'].apply(\n",
    "    get_feature_class_bin, args=(pop_bin_list, ))"
   ]
  },
  {
   "cell_type": "code",
   "execution_count": 63,
   "metadata": {},
   "outputs": [
    {
     "name": "stdout",
     "output_type": "stream",
     "text": [
      "Combination example: 0 0 2\n",
      "2 unique feature combination(s) with less than 3 observations. (Total: 2 datapoints)\n"
     ]
    }
   ],
   "source": [
    "unstrat_ids = stratify_test(\n",
    "    playlist_df[['track_popularity_median_class', 'num_tracks_class', 'modified_at_class']], sets=3)"
   ]
  },
  {
   "cell_type": "code",
   "execution_count": 62,
   "metadata": {},
   "outputs": [
    {
     "data": {
      "text/html": [
       "<div>\n",
       "<style scoped>\n",
       "    .dataframe tbody tr th:only-of-type {\n",
       "        vertical-align: middle;\n",
       "    }\n",
       "\n",
       "    .dataframe tbody tr th {\n",
       "        vertical-align: top;\n",
       "    }\n",
       "\n",
       "    .dataframe thead th {\n",
       "        text-align: right;\n",
       "    }\n",
       "</style>\n",
       "<table border=\"1\" class=\"dataframe\">\n",
       "  <thead>\n",
       "    <tr style=\"text-align: right;\">\n",
       "      <th></th>\n",
       "      <th>track_popularity_median_class</th>\n",
       "      <th>num_tracks_class</th>\n",
       "      <th>modified_at_class</th>\n",
       "    </tr>\n",
       "  </thead>\n",
       "  <tbody>\n",
       "    <tr>\n",
       "      <th>5786</th>\n",
       "      <td>1</td>\n",
       "      <td>1</td>\n",
       "      <td>2</td>\n",
       "    </tr>\n",
       "    <tr>\n",
       "      <th>7528</th>\n",
       "      <td>1</td>\n",
       "      <td>0</td>\n",
       "      <td>2</td>\n",
       "    </tr>\n",
       "    <tr>\n",
       "      <th>12551</th>\n",
       "      <td>2</td>\n",
       "      <td>0</td>\n",
       "      <td>2</td>\n",
       "    </tr>\n",
       "    <tr>\n",
       "      <th>13153</th>\n",
       "      <td>1</td>\n",
       "      <td>0</td>\n",
       "      <td>3</td>\n",
       "    </tr>\n",
       "    <tr>\n",
       "      <th>17283</th>\n",
       "      <td>0</td>\n",
       "      <td>1</td>\n",
       "      <td>1</td>\n",
       "    </tr>\n",
       "  </tbody>\n",
       "</table>\n",
       "</div>"
      ],
      "text/plain": [
       "       track_popularity_median_class  num_tracks_class  modified_at_class\n",
       "5786                               1                 1                  2\n",
       "7528                               1                 0                  2\n",
       "12551                              2                 0                  2\n",
       "13153                              1                 0                  3\n",
       "17283                              0                 1                  1"
      ]
     },
     "execution_count": 62,
     "metadata": {},
     "output_type": "execute_result"
    }
   ],
   "source": [
    "playlist_df[playlist_df.index.isin(unstrat_ids)][[\n",
    "    'track_popularity_median_class', 'num_tracks_class', 'modified_at_class']].head()"
   ]
  },
  {
   "cell_type": "markdown",
   "metadata": {},
   "source": [
    "Even with as low as three bin groups per feature it is not possible to mitigate infrequent combinations."
   ]
  },
  {
   "cell_type": "markdown",
   "metadata": {},
   "source": [
    "### Adjustments: Quantiles\n",
    "After lowering the precentile steps to 10 per quantile calculation, none of the categories is part of a combination that appears less than three times."
   ]
  },
  {
   "cell_type": "code",
   "execution_count": 64,
   "metadata": {},
   "outputs": [],
   "source": [
    "nt_quantile_list = get_quantile_list(playlist_df, 'num_tracks', bins=10)\n",
    "ma_quantile_list = get_quantile_list(playlist_df, 'modified_at', bins=10)\n",
    "pop_quantile_list = get_quantile_list(playlist_df, 'track_popularity_median', bins=10)"
   ]
  },
  {
   "cell_type": "code",
   "execution_count": 65,
   "metadata": {},
   "outputs": [],
   "source": [
    "playlist_df['num_tracks_class_quantile'] = playlist_df['num_tracks'].apply(get_feature_class, args=(nt_quantile_list, ))\n",
    "playlist_df['modified_at_class_quantile'] = playlist_df['modified_at'].apply(get_feature_class, args=(ma_quantile_list, ))\n",
    "playlist_df['track_popularity_median_class_quantile'] = playlist_df['track_popularity_median'].apply(\n",
    "    get_feature_class, args=(pop_quantile_list, ))"
   ]
  },
  {
   "cell_type": "code",
   "execution_count": 66,
   "metadata": {},
   "outputs": [
    {
     "name": "stdout",
     "output_type": "stream",
     "text": [
      "Combination example: 4 4 2\n",
      "0 unique feature combination(s) with less than 3 observations. (Total: 0.0 datapoints)\n"
     ]
    }
   ],
   "source": [
    "unstrat_ids_quantile = stratify_test(\n",
    "    playlist_df[['track_popularity_median_class_quantile', \n",
    "                 'num_tracks_class_quantile', \n",
    "                 'modified_at_class_quantile']], sets=3)"
   ]
  },
  {
   "cell_type": "markdown",
   "metadata": {},
   "source": [
    "A heavy skew on all three features makes it hard to find bin combinations that work for a multi-stratifying approach. One option would be to exclude the outliers but since we accept a skewed data set and expect future outliers according to this data set in the unseen test cases we want to include those as well. Another option would be to use post-stratification or raking after stratifying on one feature and weighing the other features accordingly. Since we have a quantile solution that is quite robust against skew and a decent amount of classes which seem to be able to explain trends within the data. We'll cross-check this later on."
   ]
  },
  {
   "cell_type": "markdown",
   "metadata": {},
   "source": [
    "## Load all Tracks"
   ]
  },
  {
   "cell_type": "code",
   "execution_count": 67,
   "metadata": {},
   "outputs": [],
   "source": [
    "def save_pickle_obj(obj, fname):\n",
    "    with open(fname, 'wb') as f:\n",
    "        pickle.dump(obj, f)\n",
    "        print ('File stored under {}'.format(fname))"
   ]
  },
  {
   "cell_type": "code",
   "execution_count": 68,
   "metadata": {},
   "outputs": [],
   "source": [
    "mpd_data_fname = '../../workspace/data/'"
   ]
  },
  {
   "cell_type": "code",
   "execution_count": null,
   "metadata": {},
   "outputs": [],
   "source": [
    "all_playlists_fname = 'all_playlists.pckl'\n",
    "if recompute:\n",
    "    all_playlists = {}\n",
    "    file_names = os.listdir(mpd_data_fname)\n",
    "    file_names = [x for x in file_names if '.json' in x]\n",
    "    counter = 0\n",
    "    total_files = len(file_names)\n",
    "    for file_name in file_names:\n",
    "        counter += 1\n",
    "        clear_output(wait=True) \n",
    "        print (\"Working on slice {} ({:.2f} %) (File Name:  {} || Total Slices: {})\".format(\n",
    "                counter, (counter / total_files) * 100, file_name, total_files))\n",
    "        with open(os.path.join(mpd_data_fname, file_name), 'r') as f:\n",
    "            json_tmp = json.load(f)\n",
    "            for playlist in json_tmp['playlists']:\n",
    "                all_playlists[playlist['pid']] = [x['track_uri'] for x in playlist['tracks']]\n",
    "    all_playlists_fname = 'all_playlists.pckl'\n",
    "    save_pickle_obj(all_playlists, os.path.join('../../workspace/', all_playlists_fname))\n",
    "else:\n",
    "    all_playlists = load_pickle_obj(os.path.join('../../workspace/', all_playlists_fname))"
   ]
  },
  {
   "cell_type": "code",
   "execution_count": null,
   "metadata": {},
   "outputs": [],
   "source": [
    "len(all_playlists)"
   ]
  },
  {
   "cell_type": "markdown",
   "metadata": {},
   "source": [
    "## Split\n",
    "After creating the classes to stratify on, sklearn's `train_test_split` method is being leveraged to determine the playlists. To meet the second criteria for all tracks in the dev and test sets to be in the training set a bigger split is being produced. Afterwards all candidates are being investigated for rare tracks. If a playlist contains a track that's not in the training set, the playlist is being removed from the candidate list. From the remaining candidates a random sample of two times 10,000 is being drawn to determine the dev and test sets."
   ]
  },
  {
   "cell_type": "code",
   "execution_count": 70,
   "metadata": {},
   "outputs": [],
   "source": [
    "from sklearn.model_selection import train_test_split"
   ]
  },
  {
   "cell_type": "code",
   "execution_count": 71,
   "metadata": {},
   "outputs": [],
   "source": [
    "X_train_full, X_test = train_test_split(\n",
    "    playlist_df, test_size=.1, random_state=random_state, stratify=playlist_df[\n",
    "        ['track_popularity_median_class_quantile', 'num_tracks_class_quantile', 'modified_at_class_quantile']])"
   ]
  },
  {
   "cell_type": "code",
   "execution_count": 72,
   "metadata": {
    "scrolled": true
   },
   "outputs": [],
   "source": [
    "X_train_full = X_train_full.copy()"
   ]
  },
  {
   "cell_type": "code",
   "execution_count": 73,
   "metadata": {},
   "outputs": [],
   "source": [
    "# get all tracks from X_train_full set"
   ]
  },
  {
   "cell_type": "code",
   "execution_count": 74,
   "metadata": {},
   "outputs": [],
   "source": [
    "x_train_pids = X_train_full.pid.values"
   ]
  },
  {
   "cell_type": "code",
   "execution_count": 75,
   "metadata": {},
   "outputs": [],
   "source": [
    "x_test_pids = X_test.pid.values"
   ]
  },
  {
   "cell_type": "code",
   "execution_count": 76,
   "metadata": {},
   "outputs": [],
   "source": [
    "import sys\n",
    "sys.path.append('../src/')"
   ]
  },
  {
   "cell_type": "code",
   "execution_count": 77,
   "metadata": {},
   "outputs": [],
   "source": [
    "import os"
   ]
  },
  {
   "cell_type": "code",
   "execution_count": 78,
   "metadata": {},
   "outputs": [],
   "source": [
    "all_tracks = set()\n",
    "test_playlists = {}\n",
    "file_names = os.listdir(mpd_data_fname)\n",
    "file_names = [x for x in file_names if '.json' in x]\n",
    "total_files = len(all_playlists)\n",
    "for p in all_playlists:\n",
    "    if p in x_train_pids:\n",
    "        for track in all_playlists[p]:\n",
    "            all_tracks.add(track)\n",
    "    elif p in x_test_pids:\n",
    "        test_playlists[p] = all_playlists[p]"
   ]
  },
  {
   "cell_type": "code",
   "execution_count": null,
   "metadata": {},
   "outputs": [],
   "source": [
    "# check if all tracks in test set are in X_train_full"
   ]
  },
  {
   "cell_type": "code",
   "execution_count": 79,
   "metadata": {},
   "outputs": [],
   "source": [
    "missing_pid = {}\n",
    "candidates = []\n",
    "for t in test_playlists:\n",
    "    is_candidate = True\n",
    "    for track in test_playlists[t]:\n",
    "        if track not in all_tracks:\n",
    "            is_candidate = False\n",
    "            if t not in missing_pid:\n",
    "                missing_pid[t] = 1\n",
    "            else:\n",
    "                missing_pid[t] += 1\n",
    "    if is_candidate:\n",
    "        candidates.append(t)"
   ]
  },
  {
   "cell_type": "code",
   "execution_count": 80,
   "metadata": {},
   "outputs": [
    {
     "name": "stdout",
     "output_type": "stream",
     "text": [
      "There are 23,302 playlists that contain songs that are not in the training set.\n"
     ]
    }
   ],
   "source": [
    "print ('There are {:,} playlists that contain songs that are not in the training set.'.format(len(missing_pid)))"
   ]
  },
  {
   "cell_type": "code",
   "execution_count": 81,
   "metadata": {},
   "outputs": [],
   "source": [
    "dev_test = np.random.choice(candidates, 20000, replace=False)\n",
    "dev_test = shuffle(dev_test, random_state=random_state)\n",
    "dev, test = dev_test[:10000], dev_test[10000:]"
   ]
  },
  {
   "cell_type": "code",
   "execution_count": 82,
   "metadata": {},
   "outputs": [
    {
     "data": {
      "text/plain": [
       "(10000, 10000)"
      ]
     },
     "execution_count": 82,
     "metadata": {},
     "output_type": "execute_result"
    }
   ],
   "source": [
    "len(dev), len(test)"
   ]
  },
  {
   "cell_type": "code",
   "execution_count": 83,
   "metadata": {},
   "outputs": [],
   "source": [
    "X_dev = playlist_df[playlist_df.pid.isin(dev)].copy()"
   ]
  },
  {
   "cell_type": "code",
   "execution_count": 84,
   "metadata": {},
   "outputs": [
    {
     "data": {
      "text/plain": [
       "100000"
      ]
     },
     "execution_count": 84,
     "metadata": {},
     "output_type": "execute_result"
    }
   ],
   "source": [
    "len(X_test)"
   ]
  },
  {
   "cell_type": "code",
   "execution_count": 85,
   "metadata": {},
   "outputs": [],
   "source": [
    "X_test = playlist_df[playlist_df.pid.isin(test)].copy()"
   ]
  },
  {
   "cell_type": "code",
   "execution_count": 86,
   "metadata": {},
   "outputs": [],
   "source": [
    "X_train = playlist_df[~playlist_df.pid.isin(test) & ~playlist_df.pid.isin(dev)].copy()"
   ]
  },
  {
   "cell_type": "code",
   "execution_count": 87,
   "metadata": {},
   "outputs": [
    {
     "data": {
      "text/plain": [
       "980000"
      ]
     },
     "execution_count": 87,
     "metadata": {},
     "output_type": "execute_result"
    }
   ],
   "source": [
    "len(X_train)"
   ]
  },
  {
   "cell_type": "markdown",
   "metadata": {},
   "source": [
    "## Distribution Plots\n",
    "To investigate whether the method worked well for our dataset, we'll perform the same method to sample a development set. "
   ]
  },
  {
   "cell_type": "code",
   "execution_count": 243,
   "metadata": {},
   "outputs": [],
   "source": [
    "nt_quantile_list = get_quantile_list(X_train, 'num_tracks', bins=10)\n",
    "ma_quantile_list = get_quantile_list(X_train, 'modified_at', bins=10)\n",
    "pop_quantile_list = get_quantile_list(X_train, 'track_popularity_median', bins=10)"
   ]
  },
  {
   "cell_type": "code",
   "execution_count": 244,
   "metadata": {},
   "outputs": [],
   "source": [
    "X_train.drop(\n",
    "    ['num_tracks_class_quantile', 'modified_at_class_quantile', 'track_popularity_median_class_quantile'],\n",
    "    axis=1,\n",
    "    inplace=True)"
   ]
  },
  {
   "cell_type": "code",
   "execution_count": 245,
   "metadata": {},
   "outputs": [],
   "source": [
    "X_train['num_tracks_class_quantile'] = X_train['num_tracks'].apply(get_feature_class, args=(nt_quantile_list, ))\n",
    "X_train['modified_at_class_quantile'] = X_train['modified_at'].apply(get_feature_class, args=(ma_quantile_list, ))\n",
    "X_train['track_popularity_median_class_quantile'] = X_train['track_popularity_median'].apply(\n",
    "    get_feature_class, args=(pop_quantile_list, ))"
   ]
  },
  {
   "cell_type": "code",
   "execution_count": 246,
   "metadata": {},
   "outputs": [],
   "source": [
    "def show_describe_deltas(train, dev):\n",
    "    def _in_list(df):\n",
    "        tmp_list = []\n",
    "        for t in df.iteritems():\n",
    "            if 'count' not in t[0]:\n",
    "                tmp_list.append(t[1])\n",
    "        return tmp_list\n",
    "    columns = [x for x in train.index if 'count' not in x]\n",
    "    df = pd.DataFrame([_in_list(train), _in_list(dev)], columns=columns).transpose()\n",
    "    df.columns = ['train', 'dev']\n",
    "    df['delta'] = df['train'] - df['dev']\n",
    "    df['delta_ratio_percent'] = (df['delta'] / df['dev']) * 100\n",
    "    return df\n",
    "    #print (list(pd.DataFrame(desc1).transpose()[:1]))\n",
    "    #print (desc2)"
   ]
  },
  {
   "cell_type": "code",
   "execution_count": 247,
   "metadata": {},
   "outputs": [
    {
     "data": {
      "image/png": "[encoded data removed]",
      "text/plain": [
       "<matplotlib.figure.Figure at 0x7f89730a79b0>"
      ]
     },
     "metadata": {},
     "output_type": "display_data"
    }
   ],
   "source": [
    "fig_nt, ax_nt = plt.subplots(1, 2, figsize=(15,6))\n",
    "_ = sns.distplot(X_train['num_tracks'], ax=ax_nt[0])\n",
    "_ = sns.distplot(X_dev['num_tracks'], ax=ax_nt[1])"
   ]
  },
  {
   "cell_type": "code",
   "execution_count": 248,
   "metadata": {},
   "outputs": [
    {
     "data": {
      "text/html": [
       "<div>\n",
       "<style scoped>\n",
       "    .dataframe tbody tr th:only-of-type {\n",
       "        vertical-align: middle;\n",
       "    }\n",
       "\n",
       "    .dataframe tbody tr th {\n",
       "        vertical-align: top;\n",
       "    }\n",
       "\n",
       "    .dataframe thead th {\n",
       "        text-align: right;\n",
       "    }\n",
       "</style>\n",
       "<table border=\"1\" class=\"dataframe\">\n",
       "  <thead>\n",
       "    <tr style=\"text-align: right;\">\n",
       "      <th></th>\n",
       "      <th>train</th>\n",
       "      <th>dev</th>\n",
       "      <th>delta</th>\n",
       "      <th>delta_ratio_percent</th>\n",
       "    </tr>\n",
       "  </thead>\n",
       "  <tbody>\n",
       "    <tr>\n",
       "      <th>mean</th>\n",
       "      <td>66.474551</td>\n",
       "      <td>59.972800</td>\n",
       "      <td>6.501751</td>\n",
       "      <td>10.841166</td>\n",
       "    </tr>\n",
       "    <tr>\n",
       "      <th>std</th>\n",
       "      <td>53.743313</td>\n",
       "      <td>49.489977</td>\n",
       "      <td>4.253336</td>\n",
       "      <td>8.594339</td>\n",
       "    </tr>\n",
       "    <tr>\n",
       "      <th>min</th>\n",
       "      <td>5.000000</td>\n",
       "      <td>5.000000</td>\n",
       "      <td>0.000000</td>\n",
       "      <td>0.000000</td>\n",
       "    </tr>\n",
       "    <tr>\n",
       "      <th>25%</th>\n",
       "      <td>26.000000</td>\n",
       "      <td>23.000000</td>\n",
       "      <td>3.000000</td>\n",
       "      <td>13.043478</td>\n",
       "    </tr>\n",
       "    <tr>\n",
       "      <th>50%</th>\n",
       "      <td>49.000000</td>\n",
       "      <td>44.000000</td>\n",
       "      <td>5.000000</td>\n",
       "      <td>11.363636</td>\n",
       "    </tr>\n",
       "    <tr>\n",
       "      <th>75%</th>\n",
       "      <td>92.000000</td>\n",
       "      <td>81.000000</td>\n",
       "      <td>11.000000</td>\n",
       "      <td>13.580247</td>\n",
       "    </tr>\n",
       "    <tr>\n",
       "      <th>max</th>\n",
       "      <td>376.000000</td>\n",
       "      <td>250.000000</td>\n",
       "      <td>126.000000</td>\n",
       "      <td>50.400000</td>\n",
       "    </tr>\n",
       "  </tbody>\n",
       "</table>\n",
       "</div>"
      ],
      "text/plain": [
       "           train         dev       delta  delta_ratio_percent\n",
       "mean   66.474551   59.972800    6.501751            10.841166\n",
       "std    53.743313   49.489977    4.253336             8.594339\n",
       "min     5.000000    5.000000    0.000000             0.000000\n",
       "25%    26.000000   23.000000    3.000000            13.043478\n",
       "50%    49.000000   44.000000    5.000000            11.363636\n",
       "75%    92.000000   81.000000   11.000000            13.580247\n",
       "max   376.000000  250.000000  126.000000            50.400000"
      ]
     },
     "execution_count": 248,
     "metadata": {},
     "output_type": "execute_result"
    }
   ],
   "source": [
    "show_describe_deltas(X_train['num_tracks'].describe(), X_dev['num_tracks'].describe())"
   ]
  },
  {
   "cell_type": "markdown",
   "metadata": {},
   "source": [
    "Even though the plots look slightly different, a closer look into descriptive features of both samples show the similarity of their distribution. The different plot appearance is driven by a way larger maximum value in the training set. This is a data point we'll keep in mind and might take into consideration when finetuning."
   ]
  },
  {
   "cell_type": "code",
   "execution_count": 249,
   "metadata": {},
   "outputs": [
    {
     "data": {
      "image/png": "[encoded data removed]",
      "text/plain": [
       "<matplotlib.figure.Figure at 0x7f896e744198>"
      ]
     },
     "metadata": {},
     "output_type": "display_data"
    }
   ],
   "source": [
    "fig_pop, ax_pop = plt.subplots(1, 2, figsize=(15,6))\n",
    "_ = sns.distplot(X_train['track_popularity_median'], ax=ax_pop[0])\n",
    "_ = sns.distplot(X_dev['track_popularity_median'], ax=ax_pop[1])"
   ]
  },
  {
   "cell_type": "code",
   "execution_count": 250,
   "metadata": {},
   "outputs": [
    {
     "data": {
      "text/html": [
       "<div>\n",
       "<style scoped>\n",
       "    .dataframe tbody tr th:only-of-type {\n",
       "        vertical-align: middle;\n",
       "    }\n",
       "\n",
       "    .dataframe tbody tr th {\n",
       "        vertical-align: top;\n",
       "    }\n",
       "\n",
       "    .dataframe thead th {\n",
       "        text-align: right;\n",
       "    }\n",
       "</style>\n",
       "<table border=\"1\" class=\"dataframe\">\n",
       "  <thead>\n",
       "    <tr style=\"text-align: right;\">\n",
       "      <th></th>\n",
       "      <th>train</th>\n",
       "      <th>dev</th>\n",
       "      <th>delta</th>\n",
       "      <th>delta_ratio_percent</th>\n",
       "    </tr>\n",
       "  </thead>\n",
       "  <tbody>\n",
       "    <tr>\n",
       "      <th>mean</th>\n",
       "      <td>3041.950303</td>\n",
       "      <td>3704.511100</td>\n",
       "      <td>-662.560797</td>\n",
       "      <td>-17.885243</td>\n",
       "    </tr>\n",
       "    <tr>\n",
       "      <th>std</th>\n",
       "      <td>3546.111790</td>\n",
       "      <td>3717.419533</td>\n",
       "      <td>-171.307743</td>\n",
       "      <td>-4.608243</td>\n",
       "    </tr>\n",
       "    <tr>\n",
       "      <th>min</th>\n",
       "      <td>1.000000</td>\n",
       "      <td>2.000000</td>\n",
       "      <td>-1.000000</td>\n",
       "      <td>-50.000000</td>\n",
       "    </tr>\n",
       "    <tr>\n",
       "      <th>25%</th>\n",
       "      <td>377.500000</td>\n",
       "      <td>799.750000</td>\n",
       "      <td>-422.250000</td>\n",
       "      <td>-52.797749</td>\n",
       "    </tr>\n",
       "    <tr>\n",
       "      <th>50%</th>\n",
       "      <td>1659.000000</td>\n",
       "      <td>2489.500000</td>\n",
       "      <td>-830.500000</td>\n",
       "      <td>-33.360112</td>\n",
       "    </tr>\n",
       "    <tr>\n",
       "      <th>75%</th>\n",
       "      <td>4558.000000</td>\n",
       "      <td>5576.750000</td>\n",
       "      <td>-1018.750000</td>\n",
       "      <td>-18.267808</td>\n",
       "    </tr>\n",
       "    <tr>\n",
       "      <th>max</th>\n",
       "      <td>35170.000000</td>\n",
       "      <td>33699.000000</td>\n",
       "      <td>1471.000000</td>\n",
       "      <td>4.365115</td>\n",
       "    </tr>\n",
       "  </tbody>\n",
       "</table>\n",
       "</div>"
      ],
      "text/plain": [
       "             train           dev        delta  delta_ratio_percent\n",
       "mean   3041.950303   3704.511100  -662.560797           -17.885243\n",
       "std    3546.111790   3717.419533  -171.307743            -4.608243\n",
       "min       1.000000      2.000000    -1.000000           -50.000000\n",
       "25%     377.500000    799.750000  -422.250000           -52.797749\n",
       "50%    1659.000000   2489.500000  -830.500000           -33.360112\n",
       "75%    4558.000000   5576.750000 -1018.750000           -18.267808\n",
       "max   35170.000000  33699.000000  1471.000000             4.365115"
      ]
     },
     "execution_count": 250,
     "metadata": {},
     "output_type": "execute_result"
    }
   ],
   "source": [
    "show_describe_deltas(X_train['track_popularity_median'].describe(), X_dev['track_popularity_median'].describe())"
   ]
  },
  {
   "cell_type": "markdown",
   "metadata": {},
   "source": [
    "Both samples have similar characteristics for `track_popularity_median` as well. The largest difference is on its maximum value as well. Mean and standard deviation delta is very small as well."
   ]
  },
  {
   "cell_type": "code",
   "execution_count": 251,
   "metadata": {},
   "outputs": [
    {
     "data": {
      "image/png": "[encoded data removed]",
      "text/plain": [
       "<matplotlib.figure.Figure at 0x7f8969e12390>"
      ]
     },
     "metadata": {},
     "output_type": "display_data"
    }
   ],
   "source": [
    "fig_ma, ax_ma = plt.subplots(1, 2, figsize=(15,6))\n",
    "_ = sns.distplot(X_train['modified_at'], ax=ax_ma[0])\n",
    "_ = sns.distplot(X_dev['modified_at'], ax=ax_ma[1])"
   ]
  },
  {
   "cell_type": "code",
   "execution_count": 252,
   "metadata": {},
   "outputs": [
    {
     "data": {
      "text/html": [
       "<div>\n",
       "<style scoped>\n",
       "    .dataframe tbody tr th:only-of-type {\n",
       "        vertical-align: middle;\n",
       "    }\n",
       "\n",
       "    .dataframe tbody tr th {\n",
       "        vertical-align: top;\n",
       "    }\n",
       "\n",
       "    .dataframe thead th {\n",
       "        text-align: right;\n",
       "    }\n",
       "</style>\n",
       "<table border=\"1\" class=\"dataframe\">\n",
       "  <thead>\n",
       "    <tr style=\"text-align: right;\">\n",
       "      <th></th>\n",
       "      <th>train</th>\n",
       "      <th>dev</th>\n",
       "      <th>delta</th>\n",
       "      <th>delta_ratio_percent</th>\n",
       "    </tr>\n",
       "  </thead>\n",
       "  <tbody>\n",
       "    <tr>\n",
       "      <th>mean</th>\n",
       "      <td>1.476257e+09</td>\n",
       "      <td>1.477076e+09</td>\n",
       "      <td>-8.197792e+05</td>\n",
       "      <td>-0.055500</td>\n",
       "    </tr>\n",
       "    <tr>\n",
       "      <th>std</th>\n",
       "      <td>3.670084e+07</td>\n",
       "      <td>3.528126e+07</td>\n",
       "      <td>1.419581e+06</td>\n",
       "      <td>4.023613</td>\n",
       "    </tr>\n",
       "    <tr>\n",
       "      <th>min</th>\n",
       "      <td>1.271376e+09</td>\n",
       "      <td>1.313712e+09</td>\n",
       "      <td>-4.233600e+07</td>\n",
       "      <td>-3.222624</td>\n",
       "    </tr>\n",
       "    <tr>\n",
       "      <th>25%</th>\n",
       "      <td>1.458950e+09</td>\n",
       "      <td>1.460246e+09</td>\n",
       "      <td>-1.296000e+06</td>\n",
       "      <td>-0.088752</td>\n",
       "    </tr>\n",
       "    <tr>\n",
       "      <th>50%</th>\n",
       "      <td>1.490227e+09</td>\n",
       "      <td>1.489882e+09</td>\n",
       "      <td>3.456000e+05</td>\n",
       "      <td>0.023196</td>\n",
       "    </tr>\n",
       "    <tr>\n",
       "      <th>75%</th>\n",
       "      <td>1.505434e+09</td>\n",
       "      <td>1.505347e+09</td>\n",
       "      <td>8.640000e+04</td>\n",
       "      <td>0.005740</td>\n",
       "    </tr>\n",
       "    <tr>\n",
       "      <th>max</th>\n",
       "      <td>1.509494e+09</td>\n",
       "      <td>1.509494e+09</td>\n",
       "      <td>0.000000e+00</td>\n",
       "      <td>0.000000</td>\n",
       "    </tr>\n",
       "  </tbody>\n",
       "</table>\n",
       "</div>"
      ],
      "text/plain": [
       "             train           dev         delta  delta_ratio_percent\n",
       "mean  1.476257e+09  1.477076e+09 -8.197792e+05            -0.055500\n",
       "std   3.670084e+07  3.528126e+07  1.419581e+06             4.023613\n",
       "min   1.271376e+09  1.313712e+09 -4.233600e+07            -3.222624\n",
       "25%   1.458950e+09  1.460246e+09 -1.296000e+06            -0.088752\n",
       "50%   1.490227e+09  1.489882e+09  3.456000e+05             0.023196\n",
       "75%   1.505434e+09  1.505347e+09  8.640000e+04             0.005740\n",
       "max   1.509494e+09  1.509494e+09  0.000000e+00             0.000000"
      ]
     },
     "execution_count": 252,
     "metadata": {},
     "output_type": "execute_result"
    }
   ],
   "source": [
    "show_describe_deltas(X_train['modified_at'].describe(), X_dev['modified_at'].describe())"
   ]
  },
  {
   "cell_type": "markdown",
   "metadata": {},
   "source": [
    "Last but not least, both subsamples show similar characteristics for `modified_at`. The larges deviation takes place in the longtail region as well. Other delta ratios are diminishing small."
   ]
  },
  {
   "cell_type": "code",
   "execution_count": 253,
   "metadata": {
    "scrolled": true
   },
   "outputs": [
    {
     "data": {
      "text/plain": [
       "(10000, 23)"
      ]
     },
     "execution_count": 253,
     "metadata": {},
     "output_type": "execute_result"
    }
   ],
   "source": [
    "X_dev.shape"
   ]
  },
  {
   "cell_type": "code",
   "execution_count": 254,
   "metadata": {},
   "outputs": [
    {
     "data": {
      "text/plain": [
       "(10000, 23)"
      ]
     },
     "execution_count": 254,
     "metadata": {},
     "output_type": "execute_result"
    }
   ],
   "source": [
    "X_test.shape"
   ]
  },
  {
   "cell_type": "code",
   "execution_count": 255,
   "metadata": {},
   "outputs": [],
   "source": [
    "X_train_pids = X_train.pid.values"
   ]
  },
  {
   "cell_type": "code",
   "execution_count": 256,
   "metadata": {},
   "outputs": [],
   "source": [
    "X_dev_pids = X_dev.pid.values"
   ]
  },
  {
   "cell_type": "code",
   "execution_count": 257,
   "metadata": {},
   "outputs": [],
   "source": [
    "X_test_pids = X_test.pid.values"
   ]
  },
  {
   "cell_type": "markdown",
   "metadata": {},
   "source": [
    "## Storing Playlist IDs\n",
    "To access the subsamples, we'll store their playlist ids."
   ]
  },
  {
   "cell_type": "code",
   "execution_count": 69,
   "metadata": {},
   "outputs": [],
   "source": [
    "if not os.path.exists(RESULTS_FOLDER):\n",
    "    os.makedirs(RESULTS_FOLDER)"
   ]
  },
  {
   "cell_type": "code",
   "execution_count": 70,
   "metadata": {},
   "outputs": [],
   "source": [
    "def save_pickle_obj(obj, fname):\n",
    "    with open(fname, 'wb') as f:\n",
    "        pickle.dump(obj, f)\n",
    "        print ('File stored under {}'.format(fname))"
   ]
  },
  {
   "cell_type": "code",
   "execution_count": 70,
   "metadata": {},
   "outputs": [],
   "source": [
    "if recompute:\n",
    "    save_pickle_obj(X_train_pids, os.path.join(RESULTS_FOLDER, 'x_train_pids.pckl'))\n",
    "    save_pickle_obj(X_dev_pids, os.path.join(RESULTS_FOLDER, 'x_dev_pids.pckl'))\n",
    "    save_pickle_obj(X_test_pids, os.path.join(RESULTS_FOLDER, 'x_test_pids.pckl'))\n",
    "else:\n",
    "    X_train_pids = load_pickle_obj(os.path.join(RESULTS_FOLDER, 'x_train_pids.pckl'))\n",
    "    X_dev_pids = load_pickle_obj(os.path.join(RESULTS_FOLDER, 'x_dev_pids.pckl'))\n",
    "    X_test_pids = load_pickle_obj(os.path.join(RESULTS_FOLDER, 'x_test_pids.pckl'))"
   ]
  },
  {
   "cell_type": "markdown",
   "metadata": {},
   "source": [
    "## Generate Sample Set\n",
    "The same process is being used to generate a sample set containing 10 % of all data. To keep consistend with development and evaluation the dev and test set size doesn't change. This subsample is being used for more complicated and computational expensive models that might need a few iterations and evaluations until used on the whole data set."
   ]
  },
  {
   "cell_type": "code",
   "execution_count": 71,
   "metadata": {},
   "outputs": [],
   "source": [
    "if recompute:\n",
    "    all_train_playlists = {}\n",
    "    all_test_dev_playlists = {}\n",
    "    for playlist in all_playlists:\n",
    "        if playlist not in dev and playlist not in test:\n",
    "            all_train_playlists[playlist] = all_playlists[playlist]\n",
    "        else:\n",
    "            all_test_dev_playlists[playlist] = all_playlists[playlist]\n",
    "\n",
    "    test_dev_union = set()\n",
    "    for p in all_test_dev_playlists:\n",
    "        for track in all_test_dev_playlists[p]:\n",
    "            test_dev_union.add(track)"
   ]
  },
  {
   "cell_type": "markdown",
   "metadata": {},
   "source": [
    "To generate the 10 % subsample, a first subset of `X_train` is being searched that meets the criteria to contain any song within the dev and test sets. To do so, a reference list of all unique songs within dev and test sets is being created. By iterating over all playlists in the training set and adding playlists that contain at least one song of dev $\\cup$ test, while crossing those track occurences off the reference list a minimum viable subset is generated."
   ]
  },
  {
   "cell_type": "code",
   "execution_count": 72,
   "metadata": {},
   "outputs": [],
   "source": [
    "if recompute:\n",
    "    cross_off_list = set()\n",
    "    candidate_list = []\n",
    "    \n",
    "    n_playlists = len(all_train_playlists)\n",
    "    for ix, p in enumerate(all_train_playlists):\n",
    "        if ix % 5000 == 0:\n",
    "            clear_output(wait=True)\n",
    "            print ('{:.2f} %'.format((((ix+1) / n_playlists) * 100)))\n",
    "        is_candidate = False\n",
    "        for track in all_train_playlists[p]:\n",
    "            if track in test_dev_union and track not in cross_off_list:\n",
    "                cross_off_list.add(track)\n",
    "                is_candidate = True\n",
    "        if is_candidate:\n",
    "            candidate_list.append(p)\n",
    "    \n",
    "    delta_playlists = int(.1 * len(all_train_playlists) - len(candidate_list))\n",
    "    print ('There are {:,} playlists missing to form a 10% training subsample.'.format(delta_playlists))"
   ]
  },
  {
   "cell_type": "markdown",
   "metadata": {},
   "source": [
    "Afterwards, a random sample is being selected from the remaining candidates that are not yet in the list."
   ]
  },
  {
   "cell_type": "code",
   "execution_count": 73,
   "metadata": {},
   "outputs": [],
   "source": [
    "if recompute:\n",
    "    remaining_candidates = set(all_train_playlists.keys()).difference(set(candidate_list))\n",
    "    candidate_supplement = np.random.choice(list(remaining_candidates), size=50022, replace=False)\n",
    "    candidate_list.extend(candidate_supplement)\n",
    "    X_train_sample = candidate_list\n",
    "    \n",
    "    save_pickle_obj(X_train_sample, os.path.join(RESULTS_FOLDER, 'x_train_sample_pids.pckl'))\n",
    "    \n",
    "else:\n",
    "    X_train_sample = load_pickle_obj(os.path.join(RESULTS_FOLDER, 'x_train_sample_pids.pckl'))"
   ]
  },
  {
   "cell_type": "code",
   "execution_count": 71,
   "metadata": {},
   "outputs": [],
   "source": [
    "def get_current_time():\n",
    "    return datetime.datetime.fromtimestamp(time.time()).strftime('%Y-%m-%d %H:%M:%S.%f')"
   ]
  },
  {
   "cell_type": "code",
   "execution_count": 72,
   "metadata": {},
   "outputs": [],
   "source": [
    "def extract_sample_set(data_folder, sample_pckl):\n",
    "    sample_json = {'info': {'generated_on': get_current_time(), 'slice': 'sample_set', 'version': 'v1'},\n",
    "                   'playlists': []\n",
    "                  }\n",
    "    file_names = os.listdir(data_folder)\n",
    "    file_names = [x for x in file_names if '.json' in x]\n",
    "    sample_dict_pids = load_pickle_obj(sample_pckl)\n",
    "    counter = 0\n",
    "    total_files = len(file_names)\n",
    "    for file_name in file_names:\n",
    "        counter += 1\n",
    "        clear_output(wait=True) \n",
    "        print (\"Working on slice {} ({:.2f} %) (File Name:  {} || Total Slices: {})\".format(\n",
    "                counter, (counter / total_files) * 100, file_name, total_files))\n",
    "        with open(os.path.join(data_folder, file_name), 'r') as f:\n",
    "            json_tmp = json.load(f)\n",
    "            for playlist in json_tmp['playlists']:\n",
    "                if playlist['pid'] in sample_dict_pids:\n",
    "                    sample_json['playlists'].append(playlist)\n",
    "    return sample_json"
   ]
  },
  {
   "cell_type": "code",
   "execution_count": 73,
   "metadata": {},
   "outputs": [],
   "source": [
    "def chunks(l, n):\n",
    "    \"\"\"Yield successive n-sized chunks from l.\"\"\"\n",
    "    for i in range(0, len(l), n):\n",
    "        yield l[i:i + n]"
   ]
  },
  {
   "cell_type": "code",
   "execution_count": 74,
   "metadata": {},
   "outputs": [],
   "source": [
    "import re\n",
    "import glob\n",
    "\n",
    "def extract_sample_set_spliced(data_folder, sample_pckl, sample_data_folder):\n",
    "    #gets the list of files sorted by theird index and filters only json files\n",
    "    sorted_files = sorted(glob.glob(os.path.join(data_folder,'*.json')), key= lambda c: int(str(re.findall('[0-9]+', c)[0])))\n",
    "    \n",
    "    sample_dict_pids = load_pickle_obj(sample_pckl)\n",
    "    sample_dicts_pids_spliced = chunks(sample_dict_pids, 1000)\n",
    "\n",
    "    i = 0\n",
    "    for pid_list in sample_dicts_pids_spliced:\n",
    "        sample_json = {'info': {'generated_on': get_current_time(), 'slice': str(i), 'version': 'v1'},\n",
    "                       'playlists': []\n",
    "                      }\n",
    "        print(\"info: creating json file with id %d\" %i)\n",
    "        print(\"info: lenght of list %d\" %len(pid_list))\n",
    "        for pid in pid_list:\n",
    "            file_index = int(pid/1000)\n",
    "            playlist_index = int(pid%1000)\n",
    "            with open(os.path.join(data_folder, sorted_files[file_index]), 'r') as f:\n",
    "                json_tmp = json.load(f)\n",
    "                playlist = json_tmp['playlists'][playlist_index]\n",
    "                print(\"info: number of tracks %s\" %playlist['num_tracks'])\n",
    "                sample_json['playlists'].append(playlist)\n",
    "            f.close()\n",
    "        sample_file_name = 'x_train_'+str(i)+'_samples.json'\n",
    "        with open(os.path.join(sample_data_folder, sample_file_name), 'w') as f:\n",
    "            json.dump(sample_json, f)\n",
    "        f.close()\n",
    "        i += 1000\n",
    "        print(\"info: file created\")"
   ]
  },
  {
   "cell_type": "code",
   "execution_count": 75,
   "metadata": {},
   "outputs": [
    {
     "name": "stdout",
     "output_type": "stream",
     "text": [
      "Working on slice 1000 (100.00 %) (File Name:  mpd.slice.718000-718999.json || Total Slices: 1000)\n",
      "98000\n"
     ]
    }
   ],
   "source": [
    "DATA_FOLDER = '../data/mpd/'\n",
    "STORAGE_FOLDER = '../../workspace/'  # this is where the sample is saved\n",
    "\n",
    "sample_file_name = 'x_train_98000_samples.json'\n",
    "\n",
    "if recompute:\n",
    "    data_folder = '../../workspace/data/'\n",
    "    sample_pckl = os.path.join(RESULTS_FOLDER, 'x_train_sample_pids.pckl')\n",
    "    sample = extract_sample_set(data_folder, sample_pckl)\n",
    "    print (len(sample['playlists'])) # make sure the sample has the correct size\n",
    "    \n",
    "    with open(os.path.join(STORAGE_FOLDER, sample_file_name), 'w') as f:\n",
    "        json.dump(sample, f)\n",
    "\n",
    "else:\n",
    "    with open(os.path.join(STORAGE_FOLDER, sample_file_name), 'r') as f:\n",
    "        sample = json.load(f)"
   ]
  },
  {
   "cell_type": "markdown",
   "metadata": {},
   "source": [
    "The size of the sample set is around 1.8 GB."
   ]
  }
 ],
 "metadata": {
  "kernelspec": {
   "display_name": "Python 3",
   "language": "python",
   "name": "python3"
  },
  "language_info": {
   "codemirror_mode": {
    "name": "ipython",
    "version": 3
   },
   "file_extension": ".py",
   "mimetype": "text/x-python",
   "name": "python",
   "nbconvert_exporter": "python",
   "pygments_lexer": "ipython3",
   "version": "3.6.4"
  }
 },
 "nbformat": 4,
 "nbformat_minor": 2
}
